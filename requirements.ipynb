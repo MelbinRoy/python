{
 "cells": [
  {
   "cell_type": "code",
   "execution_count": 8,
   "metadata": {},
   "outputs": [
    {
     "name": "stdout",
     "output_type": "stream",
     "text": [
      "requirements.txt file created successfully with the following packages:\n",
      "asttokens==2.4.1\n",
      "blinker==1.7.0\n",
      "click==8.1.7\n",
      "colorama==0.4.6\n",
      "comm==0.2.1\n",
      "debugpy==1.8.0\n",
      "decorator==5.1.1\n",
      "executing==2.0.1\n",
      "Flask==3.0.3\n",
      "ipykernel==6.29.0\n",
      "ipython==8.20.0\n",
      "itsdangerous==2.1.2\n",
      "jedi==0.19.1\n",
      "Jinja2==3.1.3\n",
      "jupyter_client==8.6.0\n",
      "jupyter_core==5.7.1\n",
      "MarkupSafe==2.1.5\n",
      "matplotlib-inline==0.1.6\n",
      "nest-asyncio==1.6.0\n",
      "numpy==1.26.4\n",
      "packaging==23.2\n",
      "pandas==2.2.1\n",
      "parso==0.8.3\n",
      "platformdirs==4.1.0\n",
      "prompt-toolkit==3.0.43\n",
      "psutil==5.9.8\n",
      "pure-eval==0.2.2\n",
      "Pygments==2.17.2\n",
      "python-dateutil==2.8.2\n",
      "pytz==2024.1\n",
      "pywin32==306\n",
      "pyzmq==25.1.2\n",
      "six==1.16.0\n",
      "stack-data==0.6.3\n",
      "tornado==6.4\n",
      "traitlets==5.14.1\n",
      "tzdata==2024.1\n",
      "wcwidth==0.2.13\n",
      "Werkzeug==3.0.2\n"
     ]
    }
   ],
   "source": [
    "import subprocess\n",
    "\n",
    "def create_requirements_file():\n",
    "    try:\n",
    "        # Use pip freeze to get a list of installed packages and their versions\n",
    "        output = subprocess.check_output(['pip', 'freeze']).decode('utf-8')\n",
    "        installed_packages = output.strip().split('\\n')\n",
    "        \n",
    "        # Write the packages to requirements.txt\n",
    "        with open('requirements.txt', 'w') as file:\n",
    "            for package in installed_packages:\n",
    "                file.write(package + '\\n')\n",
    "\n",
    "        print(\"requirements.txt file created successfully with the following packages:\")\n",
    "        for package in installed_packages:\n",
    "            print(package)\n",
    "    except subprocess.CalledProcessError as e:\n",
    "        print(f\"Failed to create requirements file: {e}\")\n",
    "\n",
    "if __name__ == \"__main__\":\n",
    "    create_requirements_file()\n"
   ]
  }
 ],
 "metadata": {
  "kernelspec": {
   "display_name": ".venv",
   "language": "python",
   "name": "python3"
  },
  "language_info": {
   "codemirror_mode": {
    "name": "ipython",
    "version": 3
   },
   "file_extension": ".py",
   "mimetype": "text/x-python",
   "name": "python",
   "nbconvert_exporter": "python",
   "pygments_lexer": "ipython3",
   "version": "3.12.1"
  }
 },
 "nbformat": 4,
 "nbformat_minor": 2
}
